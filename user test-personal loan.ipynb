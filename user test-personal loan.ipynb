{
 "cells": [
  {
   "cell_type": "markdown",
   "metadata": {},
   "source": [
    "# User Testing"
   ]
  },
  {
   "cell_type": "code",
   "execution_count": 27,
   "metadata": {},
   "outputs": [],
   "source": [
    "#User value passing\n",
    "import pickle\n",
    "import pandas as pd\n",
    "\n",
    "f2=open(file=\"LogisticpersoloanModel.pkl\",mode=\"rb\")\n",
    "model=pickle.load(f2)\n",
    "f2.close()"
   ]
  },
  {
   "cell_type": "code",
   "execution_count": 28,
   "metadata": {},
   "outputs": [
    {
     "name": "stdout",
     "output_type": "stream",
     "text": [
      "Age:22\n",
      "Experience:2\n",
      "Income(in thousand dollars):180\n",
      "Family:1\n",
      "CCAvg(Average spending on credit cards per month (in thousand dollars)):8.9\n",
      "Education(Education Level. 1: Undergrad; 2: Graduate;3: Advanced/Professional):3\n",
      "Mortgage:0\n",
      "Securities Account :0\n",
      "CD Account(certificate of deposit ):0\n",
      "Online(internet banking):0\n",
      "CreditCard:0\n",
      "According to the model:  Apply for Personal loan\n"
     ]
    }
   ],
   "source": [
    "def user_prediction(x1,x2,x3,x4,x5,x6,x7,x8,x9):\n",
    "    \n",
    "    d={\"Income\":x1,\"Family\":x2,\"CCAvg\":x3,\"Education\":x4,\n",
    "       \"Mortgage\":x5,\"Securities Account\":x6,\"CD Account\":x7,\"Online\":x8,\"CreditCard\":x9}\n",
    "    data=pd.DataFrame(d,index=[0])\n",
    "    \n",
    "    #data=SC.transform(data)\n",
    "\n",
    "    pred=model.predict(data)\n",
    "    \n",
    "    if int(pred)==1:\n",
    "        return \"Apply for Personal loan\"\n",
    "    else:\n",
    "        return \"Not Applied for Personal loan\"\n",
    "\n",
    "a=int(input(\"Age:\"))\n",
    "b=int(input(\"Experience:\"))\n",
    "c=int(input(\"Income(in thousand dollars):\"))\n",
    "e=int(input(\"Family:\"))\n",
    "f=float(input(\"CCAvg(Average spending on credit cards per month (in thousand dollars)):\"))\n",
    "g=int(input(\"Education(Education Level. 1: Undergrad; 2: Graduate;3: Advanced/Professional):\"))\n",
    "h=int(input(\"Mortgage:\"))\n",
    "i=int(input(\"Securities Account :\"))\n",
    "j=int(input(\"CD Account(certificate of deposit ):\"))\n",
    "k=int(input(\"Online(internet banking):\"))\n",
    "l=int(input(\"CreditCard:\"))\n",
    "\n",
    "print(\"According to the model: \",user_prediction(c,e,f,g,h,i,j,k,l))"
   ]
  },
  {
   "cell_type": "markdown",
   "metadata": {},
   "source": [
    "# Connect with Mongodb"
   ]
  },
  {
   "cell_type": "code",
   "execution_count": 11,
   "metadata": {},
   "outputs": [
    {
     "name": "stdout",
     "output_type": "stream",
     "text": [
      "Done!\n"
     ]
    }
   ],
   "source": [
    "import pymongo\n",
    "connect = pymongo.MongoClient(\"localhost\",27017)\n",
    "database = connect['PersonalLoan']\n",
    "collection = database[\"Datass\"]\n",
    "print(\"Done!\")"
   ]
  },
  {
   "cell_type": "code",
   "execution_count": 12,
   "metadata": {},
   "outputs": [
    {
     "name": "stdout",
     "output_type": "stream",
     "text": [
      "Age:20\n",
      "Experience:34\n",
      "Income(in thousand dollars):180\n",
      "Family:1\n",
      "CCAvg(Average spending on credit cards per month (in thousand dollars)):8.9\n",
      "Education(Education Level. 1: Undergrad; 2: Graduate;3: Advanced/Professional):3\n",
      "Mortgage:0\n",
      "Securities Account :0\n",
      "CD Account(certificate of deposit ):0\n",
      "Online(internet banking):0\n",
      "CreditCard:0\n",
      "Data inserted............. :)\n",
      "According to the model:  Apply for Personal loan\n"
     ]
    }
   ],
   "source": [
    "def user_prediction(x1,x2,x3,x4,x5,x6,x7,x8,x9):\n",
    "    \n",
    "    d={\"Income\":x1,\"Family\":x2,\"CCAvg\":x3,\"Education\":x4,\n",
    "       \"Mortgage\":x5,\"Securities Account\":x6,\"CD Account\":x7,\"Online\":x8,\"CreditCard\":x9}\n",
    "    data=pd.DataFrame(d,index=[0])\n",
    "    \n",
    "    \n",
    "\n",
    "    pred=model.predict(data)\n",
    "    \n",
    "    if int(pred)==1:\n",
    "        return \"Apply for Personal loan\"\n",
    "    else:\n",
    "        return \"Not Applied for Personal loan\"\n",
    "\n",
    "a=int(input(\"Age:\"))\n",
    "b=int(input(\"Experience:\"))\n",
    "c=int(input(\"Income(in thousand dollars):\"))\n",
    "#d=int(input(\"ZIP Code:\"))\n",
    "e=int(input(\"Family:\"))\n",
    "f=float(input(\"CCAvg(Average spending on credit cards per month (in thousand dollars)):\"))\n",
    "g=int(input(\"Education(Education Level. 1: Undergrad; 2: Graduate;3: Advanced/Professional):\"))\n",
    "h=int(input(\"Mortgage:\"))\n",
    "i=int(input(\"Securities Account :\"))\n",
    "j=int(input(\"CD Account(certificate of deposit ):\"))\n",
    "k=int(input(\"Online(internet banking):\"))\n",
    "l=int(input(\"CreditCard:\"))\n",
    "\n",
    "\n",
    "data1 = {\"Age\":a,\"Experience\":b,\"Income\":c,\"Family\":e,\n",
    "         \"CCAvg\":f,\"Education\":g,\"Mortgage\":h,\"Securities Account\":i,\"CD Account\":j,\"Online\":k,\"CreditCard\":l}\n",
    "collection.insert_one(data1)\n",
    "print(\"Data inserted............. :)\")\n",
    "\n",
    "\n",
    "print(\"According to the model: \",user_prediction(c,e,f,g,h,i,j,k,l))"
   ]
  },
  {
   "cell_type": "markdown",
   "metadata": {},
   "source": [
    "# GUI"
   ]
  },
  {
   "cell_type": "code",
   "execution_count": 29,
   "metadata": {},
   "outputs": [
    {
     "name": "stdout",
     "output_type": "stream",
     "text": [
      "Done!\n",
      "Data inserted............. :)\n",
      "According to analysis:  Not Applied for Personal loan\n"
     ]
    }
   ],
   "source": [
    "from tkinter import *\n",
    "root = Tk()\n",
    "root.title(\"Personal Loan\")\n",
    "\n",
    "import pymongo\n",
    "connect = pymongo.MongoClient(\"localhost\",27017)\n",
    "database = connect['PersonalLoan']\n",
    "collection = database[\"Datass\"]\n",
    "print(\"Done!\")\n",
    "\n",
    "def user_prediction(x1,x2,x3,x4,x5,x6,x7,x8,x9):\n",
    "    \n",
    "    d={\"Income\":x1,\"Family\":x2,\"CCAvg\":x3,\"Education\":x4,\n",
    "       \"Mortgage\":x5,\"Securities Account\":x6,\"CD Account\":x7,\"Online\":x8,\"CreditCard\":x9}\n",
    "    data=pd.DataFrame(d,index=[0])\n",
    "    \n",
    "    pred=model.predict(data)\n",
    "    \n",
    "    if int(pred)==1:\n",
    "        return \"Apply for Personal loan\"\n",
    "    else:\n",
    "        return \"Not Applied for Personal loan\"\n",
    "    \n",
    "    \n",
    "def pred():\n",
    "    v1 = var1.get()\n",
    "    v2= var2.get()\n",
    "    v3 = var3.get()\n",
    "    v4 = int(var4.get())\n",
    "    v5 = var5.get()\n",
    "    v6= var6.get()\n",
    "    v7 = var7.get()\n",
    "    v8 = int(var8.get())\n",
    "    v9 = var9.get()\n",
    "    v10 = var10.get()\n",
    "    v11 = var11.get()\n",
    "    \n",
    "    \n",
    "    \n",
    "    result = user_prediction(v1,v2,v3,v4,v5,v6,v7,v8,v9)\n",
    "    \n",
    "    l5 = Label(root,text = result)\n",
    "    l5.place(x=200,y= 400)\n",
    "    \n",
    "    data1 = {\"Age\":v10,\"Experience\":v11,\"Income\":v1,\"Family\":v2,\n",
    "         \"CCAvg\":v3,\"Education\":v4,\"Mortgage\":v5,\"Securities Account\":v6,\"CD Account\":v7,\"Online\":v8,\"CreditCard\":v9}\n",
    "    collection.insert_one(data1)\n",
    "    print(\"Data inserted............. :)\")\n",
    "    \n",
    "    print(\"According to analysis: \",user_prediction(v1,v2,v3,v4,v5,v6,v7,v8,v9))\n",
    "\n",
    "    \n",
    "    \n",
    "l1=Label(root,text=\"Age\")\n",
    "l1.place(x=50, y=20)\n",
    "var10=StringVar()\n",
    "d1=Entry(root,textvariable=var10)\n",
    "d1.place(x=450,y=20)\n",
    "\n",
    "\n",
    "l2=Label(root,text=\"Experience\")\n",
    "l2.place(x=50, y=50)\n",
    "var11=StringVar()\n",
    "d2=Entry(root,textvariable=var11)\n",
    "d2.place(x=450,y=50)\n",
    "\n",
    "l3=Label(root,text=\"Income(in 1000 dollars)\")\n",
    "l3.place(x=50, y=80)\n",
    "var1=StringVar()\n",
    "d3=Entry(root,textvariable=var1)\n",
    "d3.place(x=450,y=80)\n",
    "\n",
    "l4=Label(root,text=\"Family\")\n",
    "l4.place(x=50, y=110)\n",
    "var2 = StringVar()\n",
    "e1= Entry(root,textvariable=var2)\n",
    "e1.place(x=450,y=110)\n",
    "\n",
    "l5=Label(root,text=\"CCAvg (Credit cards per month (in thousand dollars))\")\n",
    "l5.place(x=50, y=140)\n",
    "var3=StringVar()\n",
    "d4=Entry(root,textvariable=var3)\n",
    "d4.place(x=450,y=140)\n",
    "\n",
    "\n",
    "l6=Label(root,text=\"Education(1:Undergraduate; 2:Graduate;3:Advanced/Professional)\")\n",
    "l6.place(x=50, y=170)\n",
    "var4=StringVar()\n",
    "d5=Entry(root,textvariable=var4)\n",
    "d5.place(x=450,y=170)\n",
    "\n",
    "l7=Label(root,text=\"Mortgage\")\n",
    "l7.place(x=50, y=200)\n",
    "var5=StringVar()\n",
    "d6=Entry(root,textvariable=var5)\n",
    "d6.place(x=450,y=200)\n",
    "\n",
    "l8=Label(root,text=\"Securities Account\")\n",
    "l8.place(x=50, y=230)\n",
    "var6=StringVar()\n",
    "d7=Entry(root,textvariable=var6)\n",
    "d7.place(x=450,y=230)\n",
    "\n",
    "l9=Label(root,text=\"CD Account(certificate of deposit )\")\n",
    "l9.place(x=50, y=260)\n",
    "var7=StringVar()\n",
    "d8=Entry(root,textvariable=var7)\n",
    "d8.place(x=450,y=260)\n",
    "\n",
    "l10=Label(root,text=\"Online(internet banking)\")\n",
    "l10.place(x=50, y=290)\n",
    "var8=StringVar()\n",
    "d9=Entry(root,textvariable=var8)\n",
    "d9.place(x=450,y=290)\n",
    "\n",
    "l11=Label(root,text=\"Credit Card\")\n",
    "l11.place(x=50, y=320)\n",
    "var9=StringVar()\n",
    "d10=Entry(root,textvariable=var9)\n",
    "d10.place(x=450,y=320)\n",
    "\n",
    "\n",
    "\n",
    "b=Button(root,text=\"Predict\",command=pred,bg=\"red\")\n",
    "b.place(x=50,y=350)\n",
    "\n",
    "root.mainloop()"
   ]
  }
 ],
 "metadata": {
  "kernelspec": {
   "display_name": "Python 3",
   "language": "python",
   "name": "python3"
  },
  "language_info": {
   "codemirror_mode": {
    "name": "ipython",
    "version": 3
   },
   "file_extension": ".py",
   "mimetype": "text/x-python",
   "name": "python",
   "nbconvert_exporter": "python",
   "pygments_lexer": "ipython3",
   "version": "3.8.5"
  }
 },
 "nbformat": 4,
 "nbformat_minor": 4
}
